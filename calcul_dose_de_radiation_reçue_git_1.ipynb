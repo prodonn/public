{
  "cells": [
    {
      "cell_type": "markdown",
      "metadata": {
        "id": "view-in-github",
        "colab_type": "text"
      },
      "source": [
        "<a href=\"https://colab.research.google.com/github/prodonn/public/blob/main/calcul_dose_de_radiation_re%C3%A7ue_git_1.ipynb\" target=\"_parent\"><img src=\"https://colab.research.google.com/assets/colab-badge.svg\" alt=\"Open In Colab\"/></a>"
      ]
    },
    {
      "cell_type": "markdown",
      "metadata": {
        "id": "pa49bUnKyRgF"
      },
      "source": [
        "## Test de la fonction de calcul de la dose reçue en chaque point du tableau des contours\n",
        "\n",
        "Source : Repertoire h3dmed/dicom"
      ]
    },
    {
      "cell_type": "markdown",
      "metadata": {
        "id": "XVhK72Pu1cJL"
      },
      "source": [
        "## Setup"
      ]
    },
    {
      "cell_type": "code",
      "execution_count": null,
      "metadata": {
        "id": "7rZnJaGTWQw0"
      },
      "outputs": [],
      "source": [
        "import os\n",
        "import datetime\n",
        "import glob\n",
        "\n",
        "import IPython\n",
        "import IPython.display\n",
        "import matplotlib as mpl\n",
        "import matplotlib.pyplot as plt\n",
        "import numpy as np\n",
        "import pandas as pd\n",
        "import seaborn as sns\n",
        "\n",
        "mpl.rcParams['figure.figsize'] = (8,8)\n",
        "mpl.rcParams['axes.grid'] = False"
      ]
    },
    {
      "cell_type": "markdown",
      "source": [
        "Détection du repertoire source contenant les inforamtions issues des dicoms suivant l'environnement de travail."
      ],
      "metadata": {
        "id": "FQ3OnB4nyGBj"
      }
    },
    {
      "cell_type": "code",
      "metadata": {
        "colab": {
          "base_uri": "https://localhost:8080/"
        },
        "id": "jUQv9IM9pUkH",
        "outputId": "eb096f48-8977-43fd-ad9e-80ff71adc531"
      },
      "source": [
        "import sys\n",
        "IN_COLAB = 'google.colab' in sys.modules\n",
        "if IN_COLAB :\n",
        "  from google.colab import drive\n",
        "  drive.mount('/drive')\n",
        "  drive_dir = '/drive/MyDrive'\n",
        "  data_dir = drive_dir + '/h3dmed/dicom'\n",
        "  extract_dir = drive_dir + '/h3dmed/extract_dicom' \n",
        "else :\n",
        "  data_dir ='../dicom_dir'\n",
        "  extract_dir ='../extract_dicom'"
      ],
      "execution_count": null,
      "outputs": [
        {
          "output_type": "stream",
          "name": "stdout",
          "text": [
            "Mounted at /drive\n"
          ]
        }
      ]
    },
    {
      "cell_type": "markdown",
      "metadata": {
        "id": "TokBlnUhWFw9"
      },
      "source": [
        "## Load the dataframes :\n",
        "\n",
        "1.   df_dwell : dataframe contenant les positions des points d'arrêt et leurs temps correspondant\n",
        "2.   df_contour : dataframe contenant les contours des différents parties du corps et des applicateurs.\n",
        "\n"
      ]
    },
    {
      "cell_type": "code",
      "source": [
        "df_dwell = pd.read_csv(f'{extract_dir}/df_arrets_fantome_20220316.csv', index_col=0)\n",
        "df_contour = pd.read_csv(f'{extract_dir}/df_contours_fantome_20220317.csv', index_col=0)"
      ],
      "metadata": {
        "id": "Um2dYumA7o6H"
      },
      "execution_count": null,
      "outputs": []
    },
    {
      "cell_type": "markdown",
      "source": [
        "### Filtre sur les contours des applicateurs"
      ],
      "metadata": {
        "id": "bYOjbySx01-F"
      }
    },
    {
      "cell_type": "code",
      "source": [
        "l_noms_contours = df_contour['ROIName'].unique()"
      ],
      "metadata": {
        "id": "TdpsEnlxo_hq"
      },
      "execution_count": null,
      "outputs": []
    },
    {
      "cell_type": "code",
      "source": [
        "l_noms_contours"
      ],
      "metadata": {
        "colab": {
          "base_uri": "https://localhost:8080/"
        },
        "id": "mOkqD7D6pBzr",
        "outputId": "c94df32d-e5ae-4731-c272-b1ba7e3f4912"
      },
      "execution_count": null,
      "outputs": [
        {
          "output_type": "execute_result",
          "data": {
            "text/plain": [
              "array(['Applicateur1', 'Applicateur2', 'Applicateur3', 'Applicateur4',\n",
              "       'Applicateur5', 'Applicateur6', 'CONTOUR EXTERNE', 'CTVHR',\n",
              "       'CTVRI', 'OeilDetG', 'Peau3mm', 'aide', 'peausaine',\n",
              "       'Applicateur7', 'Applicateur8', 'Applicateur9', 'Applicateur10',\n",
              "       'Applicateur11', 'Applicateur12'], dtype=object)"
            ]
          },
          "metadata": {},
          "execution_count": 22
        }
      ]
    },
    {
      "cell_type": "markdown",
      "source": [
        "Peut t'on enlever les Applicateurs ?\n",
        "Qu'est ce que l'aide ?"
      ],
      "metadata": {
        "id": "Qx8j26JRBCRT"
      }
    },
    {
      "cell_type": "markdown",
      "source": [
        "### On garde les contours hors Applicateur"
      ],
      "metadata": {
        "id": "lCKLvVEi_ZgG"
      }
    },
    {
      "cell_type": "code",
      "source": [
        "l_human_contours = [c for c in l_noms_contours if 'Applicateur' not in c ]\n",
        "l_human_contours"
      ],
      "metadata": {
        "colab": {
          "base_uri": "https://localhost:8080/"
        },
        "id": "x-nbei1J_hJD",
        "outputId": "0013daf5-54ff-4db4-fdc7-0c55799b882d"
      },
      "execution_count": null,
      "outputs": [
        {
          "output_type": "execute_result",
          "data": {
            "text/plain": [
              "['CONTOUR EXTERNE',\n",
              " 'CTVHR',\n",
              " 'CTVRI',\n",
              " 'OeilDetG',\n",
              " 'Peau3mm',\n",
              " 'aide',\n",
              " 'peausaine']"
            ]
          },
          "metadata": {},
          "execution_count": 23
        }
      ]
    },
    {
      "cell_type": "code",
      "source": [
        "df_human_contours = df_contour.loc[df_contour['ROIName'].isin(l_human_contours)].copy()"
      ],
      "metadata": {
        "id": "4pn1qu99__l9"
      },
      "execution_count": null,
      "outputs": []
    },
    {
      "cell_type": "code",
      "source": [
        "df_human_contours['ROIName'].value_counts()"
      ],
      "metadata": {
        "colab": {
          "base_uri": "https://localhost:8080/"
        },
        "id": "NW55eFqaAX0F",
        "outputId": "e7b36be7-63f6-4e90-8b59-03aafa06d4b0"
      },
      "execution_count": null,
      "outputs": [
        {
          "output_type": "execute_result",
          "data": {
            "text/plain": [
              "CONTOUR EXTERNE    185154\n",
              "Peau3mm             79518\n",
              "aide                76982\n",
              "peausaine           73640\n",
              "OeilDetG             3516\n",
              "CTVRI                1928\n",
              "CTVHR                1202\n",
              "Name: ROIName, dtype: int64"
            ]
          },
          "metadata": {},
          "execution_count": 25
        }
      ]
    },
    {
      "cell_type": "markdown",
      "source": [
        "### Creation du tableau des sources"
      ],
      "metadata": {
        "id": "QhIIeCgzPH24"
      }
    },
    {
      "cell_type": "code",
      "source": [
        "# Creation du tableau des sources \n",
        "sources_array = df_dwell[['x', 'y', 'z', 'CumulativeTimeWeight']].to_numpy()"
      ],
      "metadata": {
        "id": "UgPpcJ92PGFs"
      },
      "execution_count": null,
      "outputs": []
    },
    {
      "cell_type": "markdown",
      "source": [
        "## Définition de la fonction de calcul de radiation ! "
      ],
      "metadata": {
        "id": "d8eqK-nY5eei"
      }
    },
    {
      "cell_type": "code",
      "source": [
        "import math\n",
        "\n",
        "def exposure_rate(target, sources):\n",
        "  #Fonction permettant de calculer une dose recue par un point target \n",
        "  #En entrée data_source, un tableau avec comme trois premieres colonnes les coord du point d'arret\n",
        "  #Comme dernière colonne le temps d'arret associé \n",
        "  #target :  les coordonnées du point target. \n",
        "  #En sortie la dose recue par target en Gy\n",
        "  dose_elementaire = 0\n",
        "  # Coordonnées de la cible target\n",
        "  target = np.array(target)\n",
        "  # Initialisation des constantes \n",
        "  Gamma=4.69\n",
        "  Fmed=0.971\n",
        "  Ka=1.59\n",
        "  Kb=1.23\n",
        "  Mu=0.092  \n",
        "  Activite_mCi=10\n",
        "  data_source = sources\n",
        "  for source in data_source :\n",
        "    coord_source = source[:3]\n",
        "    # Estimation de la distance source target\n",
        "    r = np.sqrt(np.sum(np.array(coord_source-target)**2))\n",
        "\n",
        "    h2oRatio=(1+Ka*(Mu*r)**Kb)*math.exp(-Mu*r)\n",
        "    dose_elementaire = dose_elementaire + 10*Gamma*(Activite_mCi/(r**2))*(source[3]/3600)*Fmed*h2oRatio\n",
        "\n",
        "  return dose_elementaire\n",
        "\n"
      ],
      "metadata": {
        "id": "AC_chKqaz3hL"
      },
      "execution_count": null,
      "outputs": []
    },
    {
      "cell_type": "code",
      "source": [
        "df_dwell.shape"
      ],
      "metadata": {
        "colab": {
          "base_uri": "https://localhost:8080/"
        },
        "id": "Tp_I6JkNHtwv",
        "outputId": "bc355bb8-d5a7-4afb-a599-a1a4cff2ff43"
      },
      "execution_count": null,
      "outputs": [
        {
          "output_type": "execute_result",
          "data": {
            "text/plain": [
              "(120, 6)"
            ]
          },
          "metadata": {},
          "execution_count": 27
        }
      ]
    },
    {
      "cell_type": "markdown",
      "source": [
        "## Calcul de la radiation sur un échantillon, le CTVRI"
      ],
      "metadata": {
        "id": "OGj8SsI4yj63"
      }
    },
    {
      "cell_type": "code",
      "source": [
        "df_CTVRI_contours = df_contour.loc[df_contour['ROIName']=='CTVRI'].copy()"
      ],
      "metadata": {
        "id": "8DSWUeJGnjb3"
      },
      "execution_count": null,
      "outputs": []
    },
    {
      "cell_type": "code",
      "source": [
        "df_CTVRI_contours.head(2)"
      ],
      "metadata": {
        "colab": {
          "base_uri": "https://localhost:8080/",
          "height": 112
        },
        "id": "N4AJYUgk8Kyg",
        "outputId": "ca9b4940-ddab-40b4-81bd-beedb4c0cb54"
      },
      "execution_count": null,
      "outputs": [
        {
          "output_type": "execute_result",
          "data": {
            "text/plain": [
              "           x     y     z  ReferencedROINumber  ROINumber ROIName\n",
              "186417 -7.65  6.47 -34.0                  3.0        3.0   CTVRI\n",
              "186418 -6.51  6.49 -34.0                  3.0        3.0   CTVRI"
            ],
            "text/html": [
              "\n",
              "  <div id=\"df-cd7cc34e-db17-4b85-9ea9-390b773f5691\">\n",
              "    <div class=\"colab-df-container\">\n",
              "      <div>\n",
              "<style scoped>\n",
              "    .dataframe tbody tr th:only-of-type {\n",
              "        vertical-align: middle;\n",
              "    }\n",
              "\n",
              "    .dataframe tbody tr th {\n",
              "        vertical-align: top;\n",
              "    }\n",
              "\n",
              "    .dataframe thead th {\n",
              "        text-align: right;\n",
              "    }\n",
              "</style>\n",
              "<table border=\"1\" class=\"dataframe\">\n",
              "  <thead>\n",
              "    <tr style=\"text-align: right;\">\n",
              "      <th></th>\n",
              "      <th>x</th>\n",
              "      <th>y</th>\n",
              "      <th>z</th>\n",
              "      <th>ReferencedROINumber</th>\n",
              "      <th>ROINumber</th>\n",
              "      <th>ROIName</th>\n",
              "    </tr>\n",
              "  </thead>\n",
              "  <tbody>\n",
              "    <tr>\n",
              "      <th>186417</th>\n",
              "      <td>-7.65</td>\n",
              "      <td>6.47</td>\n",
              "      <td>-34.0</td>\n",
              "      <td>3.0</td>\n",
              "      <td>3.0</td>\n",
              "      <td>CTVRI</td>\n",
              "    </tr>\n",
              "    <tr>\n",
              "      <th>186418</th>\n",
              "      <td>-6.51</td>\n",
              "      <td>6.49</td>\n",
              "      <td>-34.0</td>\n",
              "      <td>3.0</td>\n",
              "      <td>3.0</td>\n",
              "      <td>CTVRI</td>\n",
              "    </tr>\n",
              "  </tbody>\n",
              "</table>\n",
              "</div>\n",
              "      <button class=\"colab-df-convert\" onclick=\"convertToInteractive('df-cd7cc34e-db17-4b85-9ea9-390b773f5691')\"\n",
              "              title=\"Convert this dataframe to an interactive table.\"\n",
              "              style=\"display:none;\">\n",
              "        \n",
              "  <svg xmlns=\"http://www.w3.org/2000/svg\" height=\"24px\"viewBox=\"0 0 24 24\"\n",
              "       width=\"24px\">\n",
              "    <path d=\"M0 0h24v24H0V0z\" fill=\"none\"/>\n",
              "    <path d=\"M18.56 5.44l.94 2.06.94-2.06 2.06-.94-2.06-.94-.94-2.06-.94 2.06-2.06.94zm-11 1L8.5 8.5l.94-2.06 2.06-.94-2.06-.94L8.5 2.5l-.94 2.06-2.06.94zm10 10l.94 2.06.94-2.06 2.06-.94-2.06-.94-.94-2.06-.94 2.06-2.06.94z\"/><path d=\"M17.41 7.96l-1.37-1.37c-.4-.4-.92-.59-1.43-.59-.52 0-1.04.2-1.43.59L10.3 9.45l-7.72 7.72c-.78.78-.78 2.05 0 2.83L4 21.41c.39.39.9.59 1.41.59.51 0 1.02-.2 1.41-.59l7.78-7.78 2.81-2.81c.8-.78.8-2.07 0-2.86zM5.41 20L4 18.59l7.72-7.72 1.47 1.35L5.41 20z\"/>\n",
              "  </svg>\n",
              "      </button>\n",
              "      \n",
              "  <style>\n",
              "    .colab-df-container {\n",
              "      display:flex;\n",
              "      flex-wrap:wrap;\n",
              "      gap: 12px;\n",
              "    }\n",
              "\n",
              "    .colab-df-convert {\n",
              "      background-color: #E8F0FE;\n",
              "      border: none;\n",
              "      border-radius: 50%;\n",
              "      cursor: pointer;\n",
              "      display: none;\n",
              "      fill: #1967D2;\n",
              "      height: 32px;\n",
              "      padding: 0 0 0 0;\n",
              "      width: 32px;\n",
              "    }\n",
              "\n",
              "    .colab-df-convert:hover {\n",
              "      background-color: #E2EBFA;\n",
              "      box-shadow: 0px 1px 2px rgba(60, 64, 67, 0.3), 0px 1px 3px 1px rgba(60, 64, 67, 0.15);\n",
              "      fill: #174EA6;\n",
              "    }\n",
              "\n",
              "    [theme=dark] .colab-df-convert {\n",
              "      background-color: #3B4455;\n",
              "      fill: #D2E3FC;\n",
              "    }\n",
              "\n",
              "    [theme=dark] .colab-df-convert:hover {\n",
              "      background-color: #434B5C;\n",
              "      box-shadow: 0px 1px 3px 1px rgba(0, 0, 0, 0.15);\n",
              "      filter: drop-shadow(0px 1px 2px rgba(0, 0, 0, 0.3));\n",
              "      fill: #FFFFFF;\n",
              "    }\n",
              "  </style>\n",
              "\n",
              "      <script>\n",
              "        const buttonEl =\n",
              "          document.querySelector('#df-cd7cc34e-db17-4b85-9ea9-390b773f5691 button.colab-df-convert');\n",
              "        buttonEl.style.display =\n",
              "          google.colab.kernel.accessAllowed ? 'block' : 'none';\n",
              "\n",
              "        async function convertToInteractive(key) {\n",
              "          const element = document.querySelector('#df-cd7cc34e-db17-4b85-9ea9-390b773f5691');\n",
              "          const dataTable =\n",
              "            await google.colab.kernel.invokeFunction('convertToInteractive',\n",
              "                                                     [key], {});\n",
              "          if (!dataTable) return;\n",
              "\n",
              "          const docLinkHtml = 'Like what you see? Visit the ' +\n",
              "            '<a target=\"_blank\" href=https://colab.research.google.com/notebooks/data_table.ipynb>data table notebook</a>'\n",
              "            + ' to learn more about interactive tables.';\n",
              "          element.innerHTML = '';\n",
              "          dataTable['output_type'] = 'display_data';\n",
              "          await google.colab.output.renderOutput(dataTable, element);\n",
              "          const docLink = document.createElement('div');\n",
              "          docLink.innerHTML = docLinkHtml;\n",
              "          element.appendChild(docLink);\n",
              "        }\n",
              "      </script>\n",
              "    </div>\n",
              "  </div>\n",
              "  "
            ]
          },
          "metadata": {},
          "execution_count": 30
        }
      ]
    },
    {
      "cell_type": "code",
      "source": [
        "import time\n",
        "df_CTVRI_contours['dose (Gy)'] = df_CTVRI_contours[['x','y','z']].apply(lambda coord: exposure_rate(coord, sources_array), axis=1)\n",
        "\n"
      ],
      "metadata": {
        "id": "qupEWhss_vFo"
      },
      "execution_count": null,
      "outputs": []
    },
    {
      "cell_type": "code",
      "source": [
        "df_CTVRI_contours.head(2)"
      ],
      "metadata": {
        "colab": {
          "base_uri": "https://localhost:8080/",
          "height": 112
        },
        "id": "tn6Do_V0MJak",
        "outputId": "5367e466-1de3-46c1-d89b-b1cfd517861e"
      },
      "execution_count": null,
      "outputs": [
        {
          "output_type": "execute_result",
          "data": {
            "text/plain": [
              "           x     y     z  ReferencedROINumber  ROINumber ROIName  dose (Gy)\n",
              "186417 -7.65  6.47 -34.0                  3.0        3.0   CTVRI   0.745985\n",
              "186418 -6.51  6.49 -34.0                  3.0        3.0   CTVRI   0.709725"
            ],
            "text/html": [
              "\n",
              "  <div id=\"df-3b80852b-2535-4aa1-a7bf-8a70f33d9ee1\">\n",
              "    <div class=\"colab-df-container\">\n",
              "      <div>\n",
              "<style scoped>\n",
              "    .dataframe tbody tr th:only-of-type {\n",
              "        vertical-align: middle;\n",
              "    }\n",
              "\n",
              "    .dataframe tbody tr th {\n",
              "        vertical-align: top;\n",
              "    }\n",
              "\n",
              "    .dataframe thead th {\n",
              "        text-align: right;\n",
              "    }\n",
              "</style>\n",
              "<table border=\"1\" class=\"dataframe\">\n",
              "  <thead>\n",
              "    <tr style=\"text-align: right;\">\n",
              "      <th></th>\n",
              "      <th>x</th>\n",
              "      <th>y</th>\n",
              "      <th>z</th>\n",
              "      <th>ReferencedROINumber</th>\n",
              "      <th>ROINumber</th>\n",
              "      <th>ROIName</th>\n",
              "      <th>dose (Gy)</th>\n",
              "    </tr>\n",
              "  </thead>\n",
              "  <tbody>\n",
              "    <tr>\n",
              "      <th>186417</th>\n",
              "      <td>-7.65</td>\n",
              "      <td>6.47</td>\n",
              "      <td>-34.0</td>\n",
              "      <td>3.0</td>\n",
              "      <td>3.0</td>\n",
              "      <td>CTVRI</td>\n",
              "      <td>0.745985</td>\n",
              "    </tr>\n",
              "    <tr>\n",
              "      <th>186418</th>\n",
              "      <td>-6.51</td>\n",
              "      <td>6.49</td>\n",
              "      <td>-34.0</td>\n",
              "      <td>3.0</td>\n",
              "      <td>3.0</td>\n",
              "      <td>CTVRI</td>\n",
              "      <td>0.709725</td>\n",
              "    </tr>\n",
              "  </tbody>\n",
              "</table>\n",
              "</div>\n",
              "      <button class=\"colab-df-convert\" onclick=\"convertToInteractive('df-3b80852b-2535-4aa1-a7bf-8a70f33d9ee1')\"\n",
              "              title=\"Convert this dataframe to an interactive table.\"\n",
              "              style=\"display:none;\">\n",
              "        \n",
              "  <svg xmlns=\"http://www.w3.org/2000/svg\" height=\"24px\"viewBox=\"0 0 24 24\"\n",
              "       width=\"24px\">\n",
              "    <path d=\"M0 0h24v24H0V0z\" fill=\"none\"/>\n",
              "    <path d=\"M18.56 5.44l.94 2.06.94-2.06 2.06-.94-2.06-.94-.94-2.06-.94 2.06-2.06.94zm-11 1L8.5 8.5l.94-2.06 2.06-.94-2.06-.94L8.5 2.5l-.94 2.06-2.06.94zm10 10l.94 2.06.94-2.06 2.06-.94-2.06-.94-.94-2.06-.94 2.06-2.06.94z\"/><path d=\"M17.41 7.96l-1.37-1.37c-.4-.4-.92-.59-1.43-.59-.52 0-1.04.2-1.43.59L10.3 9.45l-7.72 7.72c-.78.78-.78 2.05 0 2.83L4 21.41c.39.39.9.59 1.41.59.51 0 1.02-.2 1.41-.59l7.78-7.78 2.81-2.81c.8-.78.8-2.07 0-2.86zM5.41 20L4 18.59l7.72-7.72 1.47 1.35L5.41 20z\"/>\n",
              "  </svg>\n",
              "      </button>\n",
              "      \n",
              "  <style>\n",
              "    .colab-df-container {\n",
              "      display:flex;\n",
              "      flex-wrap:wrap;\n",
              "      gap: 12px;\n",
              "    }\n",
              "\n",
              "    .colab-df-convert {\n",
              "      background-color: #E8F0FE;\n",
              "      border: none;\n",
              "      border-radius: 50%;\n",
              "      cursor: pointer;\n",
              "      display: none;\n",
              "      fill: #1967D2;\n",
              "      height: 32px;\n",
              "      padding: 0 0 0 0;\n",
              "      width: 32px;\n",
              "    }\n",
              "\n",
              "    .colab-df-convert:hover {\n",
              "      background-color: #E2EBFA;\n",
              "      box-shadow: 0px 1px 2px rgba(60, 64, 67, 0.3), 0px 1px 3px 1px rgba(60, 64, 67, 0.15);\n",
              "      fill: #174EA6;\n",
              "    }\n",
              "\n",
              "    [theme=dark] .colab-df-convert {\n",
              "      background-color: #3B4455;\n",
              "      fill: #D2E3FC;\n",
              "    }\n",
              "\n",
              "    [theme=dark] .colab-df-convert:hover {\n",
              "      background-color: #434B5C;\n",
              "      box-shadow: 0px 1px 3px 1px rgba(0, 0, 0, 0.15);\n",
              "      filter: drop-shadow(0px 1px 2px rgba(0, 0, 0, 0.3));\n",
              "      fill: #FFFFFF;\n",
              "    }\n",
              "  </style>\n",
              "\n",
              "      <script>\n",
              "        const buttonEl =\n",
              "          document.querySelector('#df-3b80852b-2535-4aa1-a7bf-8a70f33d9ee1 button.colab-df-convert');\n",
              "        buttonEl.style.display =\n",
              "          google.colab.kernel.accessAllowed ? 'block' : 'none';\n",
              "\n",
              "        async function convertToInteractive(key) {\n",
              "          const element = document.querySelector('#df-3b80852b-2535-4aa1-a7bf-8a70f33d9ee1');\n",
              "          const dataTable =\n",
              "            await google.colab.kernel.invokeFunction('convertToInteractive',\n",
              "                                                     [key], {});\n",
              "          if (!dataTable) return;\n",
              "\n",
              "          const docLinkHtml = 'Like what you see? Visit the ' +\n",
              "            '<a target=\"_blank\" href=https://colab.research.google.com/notebooks/data_table.ipynb>data table notebook</a>'\n",
              "            + ' to learn more about interactive tables.';\n",
              "          element.innerHTML = '';\n",
              "          dataTable['output_type'] = 'display_data';\n",
              "          await google.colab.output.renderOutput(dataTable, element);\n",
              "          const docLink = document.createElement('div');\n",
              "          docLink.innerHTML = docLinkHtml;\n",
              "          element.appendChild(docLink);\n",
              "        }\n",
              "      </script>\n",
              "    </div>\n",
              "  </div>\n",
              "  "
            ]
          },
          "metadata": {},
          "execution_count": 49
        }
      ]
    },
    {
      "cell_type": "code",
      "source": [
        "df_CTVRI_contours.to_csv(f'{extract_dir}/df_dose_CTVRI.csv')"
      ],
      "metadata": {
        "id": "uatMfuRhMhVq"
      },
      "execution_count": null,
      "outputs": []
    },
    {
      "cell_type": "markdown",
      "source": [
        "## Calcul de la radiation sur un échantillon, l'oeil"
      ],
      "metadata": {
        "id": "RnXcV0-5NOXL"
      }
    },
    {
      "cell_type": "code",
      "source": [
        "df_OeilDetG_contours = df_contour.loc[df_contour['ROIName']=='OeilDetG'].copy()"
      ],
      "metadata": {
        "id": "Mcjd-8pJNVJ5"
      },
      "execution_count": null,
      "outputs": []
    },
    {
      "cell_type": "code",
      "source": [
        "df_OeilDetG_contours['dose (Gy)'] = df_OeilDetG_contours[['x','y','z']].apply(lambda coord: exposure_rate(coord, sources_array), axis=1)"
      ],
      "metadata": {
        "id": "8HoStOXONvUj"
      },
      "execution_count": null,
      "outputs": []
    },
    {
      "cell_type": "code",
      "source": [
        "df_OeilDetG_contours.head(2)"
      ],
      "metadata": {
        "colab": {
          "base_uri": "https://localhost:8080/",
          "height": 112
        },
        "id": "lr9hBYzeN2hZ",
        "outputId": "df2920ba-c096-4ec3-b2e9-f5e03a9f1426"
      },
      "execution_count": null,
      "outputs": [
        {
          "output_type": "execute_result",
          "data": {
            "text/plain": [
              "            x      y     z  ReferencedROINumber  ROINumber   ROIName  \\\n",
              "188345 -15.58  22.55 -23.0                  5.0        5.0  OeilDetG   \n",
              "188346 -15.48  22.67 -23.0                  5.0        5.0  OeilDetG   \n",
              "\n",
              "        dose (Gy)  \n",
              "188345   0.580935  \n",
              "188346   0.571514  "
            ],
            "text/html": [
              "\n",
              "  <div id=\"df-a231736d-de79-48da-b7cc-921de9e24ef9\">\n",
              "    <div class=\"colab-df-container\">\n",
              "      <div>\n",
              "<style scoped>\n",
              "    .dataframe tbody tr th:only-of-type {\n",
              "        vertical-align: middle;\n",
              "    }\n",
              "\n",
              "    .dataframe tbody tr th {\n",
              "        vertical-align: top;\n",
              "    }\n",
              "\n",
              "    .dataframe thead th {\n",
              "        text-align: right;\n",
              "    }\n",
              "</style>\n",
              "<table border=\"1\" class=\"dataframe\">\n",
              "  <thead>\n",
              "    <tr style=\"text-align: right;\">\n",
              "      <th></th>\n",
              "      <th>x</th>\n",
              "      <th>y</th>\n",
              "      <th>z</th>\n",
              "      <th>ReferencedROINumber</th>\n",
              "      <th>ROINumber</th>\n",
              "      <th>ROIName</th>\n",
              "      <th>dose (Gy)</th>\n",
              "    </tr>\n",
              "  </thead>\n",
              "  <tbody>\n",
              "    <tr>\n",
              "      <th>188345</th>\n",
              "      <td>-15.58</td>\n",
              "      <td>22.55</td>\n",
              "      <td>-23.0</td>\n",
              "      <td>5.0</td>\n",
              "      <td>5.0</td>\n",
              "      <td>OeilDetG</td>\n",
              "      <td>0.580935</td>\n",
              "    </tr>\n",
              "    <tr>\n",
              "      <th>188346</th>\n",
              "      <td>-15.48</td>\n",
              "      <td>22.67</td>\n",
              "      <td>-23.0</td>\n",
              "      <td>5.0</td>\n",
              "      <td>5.0</td>\n",
              "      <td>OeilDetG</td>\n",
              "      <td>0.571514</td>\n",
              "    </tr>\n",
              "  </tbody>\n",
              "</table>\n",
              "</div>\n",
              "      <button class=\"colab-df-convert\" onclick=\"convertToInteractive('df-a231736d-de79-48da-b7cc-921de9e24ef9')\"\n",
              "              title=\"Convert this dataframe to an interactive table.\"\n",
              "              style=\"display:none;\">\n",
              "        \n",
              "  <svg xmlns=\"http://www.w3.org/2000/svg\" height=\"24px\"viewBox=\"0 0 24 24\"\n",
              "       width=\"24px\">\n",
              "    <path d=\"M0 0h24v24H0V0z\" fill=\"none\"/>\n",
              "    <path d=\"M18.56 5.44l.94 2.06.94-2.06 2.06-.94-2.06-.94-.94-2.06-.94 2.06-2.06.94zm-11 1L8.5 8.5l.94-2.06 2.06-.94-2.06-.94L8.5 2.5l-.94 2.06-2.06.94zm10 10l.94 2.06.94-2.06 2.06-.94-2.06-.94-.94-2.06-.94 2.06-2.06.94z\"/><path d=\"M17.41 7.96l-1.37-1.37c-.4-.4-.92-.59-1.43-.59-.52 0-1.04.2-1.43.59L10.3 9.45l-7.72 7.72c-.78.78-.78 2.05 0 2.83L4 21.41c.39.39.9.59 1.41.59.51 0 1.02-.2 1.41-.59l7.78-7.78 2.81-2.81c.8-.78.8-2.07 0-2.86zM5.41 20L4 18.59l7.72-7.72 1.47 1.35L5.41 20z\"/>\n",
              "  </svg>\n",
              "      </button>\n",
              "      \n",
              "  <style>\n",
              "    .colab-df-container {\n",
              "      display:flex;\n",
              "      flex-wrap:wrap;\n",
              "      gap: 12px;\n",
              "    }\n",
              "\n",
              "    .colab-df-convert {\n",
              "      background-color: #E8F0FE;\n",
              "      border: none;\n",
              "      border-radius: 50%;\n",
              "      cursor: pointer;\n",
              "      display: none;\n",
              "      fill: #1967D2;\n",
              "      height: 32px;\n",
              "      padding: 0 0 0 0;\n",
              "      width: 32px;\n",
              "    }\n",
              "\n",
              "    .colab-df-convert:hover {\n",
              "      background-color: #E2EBFA;\n",
              "      box-shadow: 0px 1px 2px rgba(60, 64, 67, 0.3), 0px 1px 3px 1px rgba(60, 64, 67, 0.15);\n",
              "      fill: #174EA6;\n",
              "    }\n",
              "\n",
              "    [theme=dark] .colab-df-convert {\n",
              "      background-color: #3B4455;\n",
              "      fill: #D2E3FC;\n",
              "    }\n",
              "\n",
              "    [theme=dark] .colab-df-convert:hover {\n",
              "      background-color: #434B5C;\n",
              "      box-shadow: 0px 1px 3px 1px rgba(0, 0, 0, 0.15);\n",
              "      filter: drop-shadow(0px 1px 2px rgba(0, 0, 0, 0.3));\n",
              "      fill: #FFFFFF;\n",
              "    }\n",
              "  </style>\n",
              "\n",
              "      <script>\n",
              "        const buttonEl =\n",
              "          document.querySelector('#df-a231736d-de79-48da-b7cc-921de9e24ef9 button.colab-df-convert');\n",
              "        buttonEl.style.display =\n",
              "          google.colab.kernel.accessAllowed ? 'block' : 'none';\n",
              "\n",
              "        async function convertToInteractive(key) {\n",
              "          const element = document.querySelector('#df-a231736d-de79-48da-b7cc-921de9e24ef9');\n",
              "          const dataTable =\n",
              "            await google.colab.kernel.invokeFunction('convertToInteractive',\n",
              "                                                     [key], {});\n",
              "          if (!dataTable) return;\n",
              "\n",
              "          const docLinkHtml = 'Like what you see? Visit the ' +\n",
              "            '<a target=\"_blank\" href=https://colab.research.google.com/notebooks/data_table.ipynb>data table notebook</a>'\n",
              "            + ' to learn more about interactive tables.';\n",
              "          element.innerHTML = '';\n",
              "          dataTable['output_type'] = 'display_data';\n",
              "          await google.colab.output.renderOutput(dataTable, element);\n",
              "          const docLink = document.createElement('div');\n",
              "          docLink.innerHTML = docLinkHtml;\n",
              "          element.appendChild(docLink);\n",
              "        }\n",
              "      </script>\n",
              "    </div>\n",
              "  </div>\n",
              "  "
            ]
          },
          "metadata": {},
          "execution_count": 51
        }
      ]
    }
  ],
  "metadata": {
    "colab": {
      "collapsed_sections": [],
      "name": "calcul_dose_de_radiation_reçue_git_1.ipynb",
      "toc_visible": true,
      "provenance": [],
      "machine_shape": "hm",
      "include_colab_link": true
    },
    "kernelspec": {
      "display_name": "Python 3",
      "name": "python3"
    }
  },
  "nbformat": 4,
  "nbformat_minor": 0
}